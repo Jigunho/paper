{
 "cells": [
  {
   "cell_type": "code",
   "execution_count": 1,
   "metadata": {},
   "outputs": [],
   "source": [
    "import pandas as pd\n",
    "import numpy as np\n",
    "from sklearn.cluster import KMeans\n",
    "import matplotlib.pyplot as plt\n",
    "import seaborn as sns"
   ]
  },
  {
   "cell_type": "code",
   "execution_count": 7,
   "metadata": {},
   "outputs": [
    {
     "data": {
      "text/plain": [
       "array([[3, 1, 1],\n",
       "       [4, 1, 1],\n",
       "       [3, 2, 1],\n",
       "       [4, 2, 1],\n",
       "       [10, 5, 1],\n",
       "       [10, 6, 1],\n",
       "       [11, 5, 1],\n",
       "       [11, 6, 1],\n",
       "       [15, 1, 1],\n",
       "       [15, 2, 1],\n",
       "       [16, 1, 1],\n",
       "       [16, 2, 1]], dtype=object)"
      ]
     },
     "execution_count": 7,
     "metadata": {},
     "output_type": "execute_result"
    }
   ],
   "source": [
    "df = pd.DataFrame(columns=['x', 'y','z'])\n",
    "#데이터 프레임 만들기 x축, y축\n",
    "df.loc[0] = [3,1,1]\n",
    "df.loc[1] = [4,1,1]\n",
    "df.loc[2] = [3,2,1]\n",
    "df.loc[3] = [4,2,1]\n",
    "df.loc[4] = [10,5,1]\n",
    "df.loc[5] = [10,6,1]\n",
    "df.loc[6] = [11,5,1]\n",
    "df.loc[7] = [11,6,1]\n",
    "df.loc[8] = [15,1,1]\n",
    "df.loc[9] = [15,2,1]\n",
    "df.loc[10] = [16,1,1]\n",
    "df.loc[11] = [16,2,1]\n",
    "#df.head(20)\n",
    "\n",
    "#2D 차트, 선=False\n",
    "#sns.lmplot('x','y', data=df, fit_reg=False, scatter_kws={\"s\":200})\n",
    "#plt.xlabel('x')\n",
    "#plt.ylabel('y')\n",
    "\n",
    "# In[61]:\n",
    "\n",
    "data_points = df.values\n",
    "#클러스트 3개, fit 데이터 설정\n",
    "kmeans = KMeans(n_clusters=3).fit(data_points)\n",
    "# In[62]:\n",
    "\n",
    "\n",
    "\n",
    "kmeans.cluster_centers_\n",
    "# 데이터 중심에 클러스트\n",
    "\n",
    "\n",
    "kmeans.labels_\n",
    "data_points\n",
    "\n",
    "\n"
   ]
  },
  {
   "cell_type": "code",
   "execution_count": 11,
   "metadata": {},
   "outputs": [
    {
     "data": {
      "text/html": [
       "<div>\n",
       "<style scoped>\n",
       "    .dataframe tbody tr th:only-of-type {\n",
       "        vertical-align: middle;\n",
       "    }\n",
       "\n",
       "    .dataframe tbody tr th {\n",
       "        vertical-align: top;\n",
       "    }\n",
       "\n",
       "    .dataframe thead th {\n",
       "        text-align: right;\n",
       "    }\n",
       "</style>\n",
       "<table border=\"1\" class=\"dataframe\">\n",
       "  <thead>\n",
       "    <tr style=\"text-align: right;\">\n",
       "      <th></th>\n",
       "      <th>x</th>\n",
       "      <th>y</th>\n",
       "      <th>z</th>\n",
       "      <th>cluster_id</th>\n",
       "    </tr>\n",
       "  </thead>\n",
       "  <tbody>\n",
       "    <tr>\n",
       "      <th>0</th>\n",
       "      <td>3</td>\n",
       "      <td>1</td>\n",
       "      <td>1</td>\n",
       "      <td>1</td>\n",
       "    </tr>\n",
       "    <tr>\n",
       "      <th>1</th>\n",
       "      <td>4</td>\n",
       "      <td>1</td>\n",
       "      <td>1</td>\n",
       "      <td>1</td>\n",
       "    </tr>\n",
       "    <tr>\n",
       "      <th>2</th>\n",
       "      <td>3</td>\n",
       "      <td>2</td>\n",
       "      <td>1</td>\n",
       "      <td>1</td>\n",
       "    </tr>\n",
       "    <tr>\n",
       "      <th>3</th>\n",
       "      <td>4</td>\n",
       "      <td>2</td>\n",
       "      <td>1</td>\n",
       "      <td>1</td>\n",
       "    </tr>\n",
       "  </tbody>\n",
       "</table>\n",
       "</div>"
      ],
      "text/plain": [
       "   x  y  z  cluster_id\n",
       "0  3  1  1           1\n",
       "1  4  1  1           1\n",
       "2  3  2  1           1\n",
       "3  4  2  1           1"
      ]
     },
     "execution_count": 11,
     "metadata": {},
     "output_type": "execute_result"
    },
    {
     "data": {
      "image/png": "[encoded data removed]",
      "text/plain": [
       "<Figure size 360x360 with 1 Axes>"
      ]
     },
     "metadata": {},
     "output_type": "display_data"
    },
    {
     "data": {
      "image/png": "[encoded data removed]",
      "text/plain": [
       "<Figure size 416.375x360 with 1 Axes>"
      ]
     },
     "metadata": {},
     "output_type": "display_data"
    }
   ],
   "source": [
    "df['cluster_id'] = kmeans.labels_\n",
    "# In[65]:\n",
    "\n",
    "\n",
    "#2D 차트, 선=False\n",
    "sns.lmplot('x','y', data=df, fit_reg=False, scatter_kws={\"s\":200})\n",
    "\n",
    "plt.xlabel('x')\n",
    "plt.ylabel('y')\n",
    "\n",
    "data_points = df.values\n",
    "\n",
    "#클러스트 3개, 각각의 데이터에 대한 클러스트가 붙음\n",
    "kmeans = KMeans(n_clusters=3).fit(data_points)\n",
    "\n",
    "sns.lmplot('x','y',data=df, fit_reg=False, scatter_kws={\"s\":150}, hue=\"cluster_id\")\n",
    "# [hue=\"cluster_id\"]이건 클러스트를 기준으로 색깔 나누는 명령어\n",
    "# scatter_kws이거는 점 크기 150\n",
    "# fit_reg 은 선을 사용여부\n",
    "\n",
    "df.to_csv('test.csv', mode='w')\n",
    "df1 = df['cluster_id'] == 1\n",
    "\n",
    "df[df1] # d"
   ]
  },
  {
   "cell_type": "markdown",
   "metadata": {},
   "source": [
    "# "
   ]
  }
 ],
 "metadata": {
  "kernelspec": {
   "display_name": "Python 3",
   "language": "python",
   "name": "python3"
  },
  "language_info": {
   "codemirror_mode": {
    "name": "ipython",
    "version": 3
   },
   "file_extension": ".py",
   "mimetype": "text/x-python",
   "name": "python",
   "nbconvert_exporter": "python",
   "pygments_lexer": "ipython3",
   "version": "3.6.5"
  }
 },
 "nbformat": 4,
 "nbformat_minor": 2
}
